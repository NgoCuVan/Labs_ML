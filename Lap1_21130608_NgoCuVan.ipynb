{
  "nbformat": 4,
  "nbformat_minor": 0,
  "metadata": {
    "colab": {
      "provenance": [],
      "include_colab_link": true
    },
    "kernelspec": {
      "name": "python3",
      "display_name": "Python 3"
    },
    "language_info": {
      "name": "python"
    }
  },
  "cells": [
    {
      "cell_type": "markdown",
      "metadata": {
        "id": "view-in-github",
        "colab_type": "text"
      },
      "source": [
        "<a href=\"https://colab.research.google.com/github/NgoCuVan/Labs_ML/blob/main/Lap1_21130608_NgoCuVan.ipynb\" target=\"_parent\"><img src=\"https://colab.research.google.com/assets/colab-badge.svg\" alt=\"Open In Colab\"/></a>"
      ]
    },
    {
      "cell_type": "code",
      "execution_count": 2,
      "metadata": {
        "id": "hSY-k7dD2WIf",
        "colab": {
          "base_uri": "https://localhost:8080/"
        },
        "outputId": "2777a50a-0787-4128-f4bf-7cd3298e31c9"
      },
      "outputs": [
        {
          "output_type": "stream",
          "name": "stdout",
          "text": [
            "Enter n: 6\n",
            "Enter element: 0\n",
            "Enter element: -3\n",
            "Enter element: 2\n",
            "Enter element: -5\n",
            "Enter element: -1\n",
            "Enter element: 7\n",
            "List L:  [0, -3, 2, -5, -1, 7]\n",
            "Max element in L:  7\n",
            "Min element in L:  -5\n",
            "Total elements in L:  0\n",
            "Positive element in L:  [2, 7]\n",
            "Positive element in L:  [-3, -5, -1]\n"
          ]
        }
      ],
      "source": [
        "import numpy as np\n",
        "def main():\n",
        "  n = int(input(\"Enter n: \"))\n",
        "  L = []\n",
        "\n",
        "  for i in range(n):\n",
        "     num = int(input(f\"Enter element: \"))\n",
        "     L.append(num)\n",
        "\n",
        "  max_L = max(L)\n",
        "  min_L = min(L)\n",
        "\n",
        "  sort_L = np.sort(L)\n",
        "  sum_L = sum(L)\n",
        "  pos = [num for num in L if num > 0]\n",
        "  reg = [num for num in L if num < 0]\n",
        "\n",
        "  print(\"List L: \", L)\n",
        "  print(\"Max element in L: \", max_L)\n",
        "  print(\"Min element in L: \", min_L)\n",
        "  print(\"Sorted_L: \", sort_L)\n",
        "  print(\"Total elements in L: \", sum_L)\n",
        "  print(\"Positive element in L: \", pos)\n",
        "  print(\"Positive element in L: \", reg)\n",
        "\n",
        "if __name__ == \"__main__\":\n",
        "  main()"
      ]
    }
  ]
}