{
  "nbformat": 4,
  "nbformat_minor": 0,
  "metadata": {
    "colab": {
      "provenance": [],
      "include_colab_link": true
    },
    "kernelspec": {
      "name": "python3",
      "display_name": "Python 3"
    },
    "language_info": {
      "name": "python"
    }
  },
  "cells": [
    {
      "cell_type": "markdown",
      "metadata": {
        "id": "view-in-github",
        "colab_type": "text"
      },
      "source": [
        "<a href=\"https://colab.research.google.com/github/NgoCuVan/Labs_ML/blob/main/Lap1_21130608_NgoCuVan.ipynb\" target=\"_parent\"><img src=\"https://colab.research.google.com/assets/colab-badge.svg\" alt=\"Open In Colab\"/></a>"
      ]
    },
    {
      "cell_type": "code",
      "execution_count": null,
      "metadata": {
        "id": "hSY-k7dD2WIf"
      },
      "outputs": [],
      "source": [
        "# Task 1\n",
        "import numpy as np\n",
        "def main():\n",
        "  n = int(input(\"Enter n: \"))\n",
        "  L = []\n",
        "\n",
        "  for i in range(n):\n",
        "     num = int(input(f\"Enter element: \"))\n",
        "     L.append(num)\n",
        "\n",
        "  max_L = max(L)\n",
        "  min_L = min(L)\n",
        "\n",
        "  sort_L = np.sort(L)\n",
        "  sum_L = sum(L)\n",
        "  pos = [num for num in L if num > 0]\n",
        "  reg = [num for num in L if num < 0]\n",
        "\n",
        "  print(\"List L: \", L)\n",
        "  print(\"Max element in L: \", max_L)\n",
        "  print(\"Min element in L: \", min_L)\n",
        "  print(\"Sorted_L: \", sort_L)\n",
        "  print(\"Total elements in L: \", sum_L)\n",
        "  print(\"Positive element in L: \", pos)\n",
        "  print(\"Positive element in L: \", reg)\n",
        "\n",
        "if __name__ == \"__main__\":\n",
        "  main()"
      ]
    },
    {
      "cell_type": "code",
      "source": [
        "def factorial(n):\n",
        "  for i in range(n):\n",
        "    if n == 0 or n == 1:\n",
        "      return 1\n",
        "    else:\n",
        "      return n * factorial(n - 1)\n",
        "\n",
        "def total_S(n):\n",
        "  sum_S = 0\n",
        "  for k in range(1, n + 1):\n",
        "    sum_S += factorial(k)\n",
        "  return sum_S\n",
        "\n",
        "def main():\n",
        "  n = int(input(\"Enter element: \"))\n",
        "  if n <= 0:\n",
        "    print(\"Invalid error!\")\n",
        "    return\n",
        "  else:\n",
        "    result = total_S(n)\n",
        "  #print(\"S(n) = \", result)\n",
        "  output = \"S(n) = \"\n",
        "  factorial_terms = []\n",
        "  for k in range(1, n + 1):\n",
        "    factorial_terms.append(str(factorial(k)))\n",
        "  output += '+'.join(factorial_terms)\n",
        "  output += ' = ' + str(result)\n",
        "\n",
        "  print(output)\n",
        "\n",
        "if __name__ == \"__main__\":\n",
        "  main()"
      ],
      "metadata": {
        "id": "8qpOT9kMHMbg"
      },
      "execution_count": null,
      "outputs": []
    },
    {
      "cell_type": "code",
      "source": [
        "class Post:\n",
        "  def __init__(self, content, subject, likes):\n",
        "    self.content = content\n",
        "    self.subject = subject\n",
        "    self.likes = likes\n",
        "\n",
        "class Account():\n",
        "  def __init__(self, name, email, country, friends, posts):\n",
        "    self.name = name\n",
        "    self.email = email\n",
        "    self.country = country\n",
        "    self.friends = friends if friends is not None else []\n",
        "    self.posts = posts if posts is not None else []\n",
        "\n",
        "  def add_Friend(self, friend):\n",
        "    if isinstance (friend, Account):\n",
        "      self.friends.append(friend)\n",
        "    else:\n",
        "      print(\"Invalid friend!\")\n",
        "\n",
        "  def get_Max_Like_Post_By_Friend(self):\n",
        "    max_Like = -1\n",
        "    max_Post = None\n",
        "    max_Liked_Friend = None\n",
        "    for friend in self.friends:\n",
        "      for post in friend.posts:\n",
        "        if post.likes > max_Like:\n",
        "          max_Like = post.likes\n",
        "          max_Post = post\n",
        "          max_Liked_Friend = friend\n",
        "    return max_Liked_Friend, max_Post\n",
        "\n",
        "class AccountManager():\n",
        "  def __init__(self, accounts):\n",
        "    super().__init__(self)\n",
        "    self.accounts = []\n",
        "\n",
        "# Tạo các bài đăng\n",
        "post1 = Post(\"Mình vừa đi du lịch ở Đà Lạt!\", \"Du lịch\", 20)\n",
        "post2 = Post(\"Hôm nay trời nắng đẹp quá!\", \"Thời tiết\", 15)\n",
        "post3 = Post(\"Chia sẻ công thức làm bánh mì ngon nhất!\", \"Nấu ăn\", 30)\n",
        "post4 = Post(\"Excited for the weekend!\", \"Weekend Plans\", 15)\n",
        "\n",
        "# Danh sách bài đăng của các tài khoản\n",
        "posts_account1 = [post1, post2]\n",
        "posts_account2 = [post3, post4]\n",
        "\n",
        "# Tạo các tài khoản\n",
        "account1 = Account(\"Linh\", \"linh@gmail.com\", \"Việt Nam\", [], posts_account1)\n",
        "account2 = Account(\"Hải\", \"hai@gmail.com\", \"Việt Nam\", [account1], posts_account2)\n",
        "account3 = Account(\"Sophie\", \"sophie@gmail.com\", \"UK\", [], [])\n",
        "\n",
        "# Thêm bạn bè\n",
        "account1.add_Friend(account2)\n",
        "account1.add_Friend(account3)\n",
        "\n",
        "# Tìm tài khoản có bài đăng với số lượt thích cao nhất từ danh sách bạn bè\n",
        "friend_with_max_likes, post_with_max_likes = account1.get_Max_Like_Post_By_Friend()\n",
        "\n",
        "# In thông tin\n",
        "print(\"Friend with the post with the highest likes:\")\n",
        "print(\"Name:\", friend_with_max_likes.name)\n",
        "print(\"Email:\", friend_with_max_likes.email)\n",
        "print(\"Country:\", friend_with_max_likes.country)\n",
        "print(\"Post:\")\n",
        "print(\"- Subject:\", post_with_max_likes.subject)\n",
        "print(\"  Contents:\", post_with_max_likes.content)\n",
        "print(\"  Likes:\", post_with_max_likes.likes)"
      ],
      "metadata": {
        "colab": {
          "base_uri": "https://localhost:8080/"
        },
        "id": "6gvsdMjjPGOV",
        "outputId": "bc80f265-800b-4128-c396-ed9f2301ee73"
      },
      "execution_count": 20,
      "outputs": [
        {
          "output_type": "stream",
          "name": "stdout",
          "text": [
            "Friend with the post with the highest likes:\n",
            "Name: Hải\n",
            "Email: hai@gmail.com\n",
            "Country: Việt Nam\n",
            "Post:\n",
            "- Subject: Nấu ăn\n",
            "  Contents: Chia sẻ công thức làm bánh mì ngon nhất!\n",
            "  Likes: 30\n"
          ]
        }
      ]
    },
    {
      "cell_type": "code",
      "source": [],
      "metadata": {
        "id": "Ednpw_D7Sbic"
      },
      "execution_count": null,
      "outputs": []
    }
  ]
}